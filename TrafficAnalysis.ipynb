{
 "cells": [
  {
   "cell_type": "code",
   "execution_count": 1,
   "id": "65a8184d",
   "metadata": {},
   "outputs": [],
   "source": [
    "import pandas as pd\n",
    "import numpy as np\n",
    "from sklearn.model_selection import train_test_split\n",
    "from sklearn.preprocessing import LabelEncoder\n",
    "from sklearn.ensemble import IsolationForest, RandomForestClassifier\n",
    "from sklearn.metrics import classification_report, confusion_matrix\n",
    "import seaborn as sns\n",
    "import matplotlib.pyplot as plt\n",
    "import warnings"
   ]
  },
  {
   "cell_type": "code",
   "execution_count": 2,
   "id": "fcdcccf1",
   "metadata": {},
   "outputs": [],
   "source": [
    "# Suppress non-critical warnings for a cleaner output\n",
    "warnings.filterwarnings('ignore', category=FutureWarning, module='seaborn')\n",
    "warnings.filterwarnings('ignore', category=UserWarning, module='sklearn')"
   ]
  },
  {
   "cell_type": "code",
   "execution_count": 3,
   "id": "fffbcff6",
   "metadata": {},
   "outputs": [
    {
     "name": "stdout",
     "output_type": "stream",
     "text": [
      "--- Step 1: Loading and Exploring Data ---\n",
      "✅ Dataset loaded successfully.\n"
     ]
    }
   ],
   "source": [
    "# --- Step 1: Data Loading and Exploration ---\n",
    "print(\"--- Step 1: Loading and Exploring Data ---\")\n",
    "try:\n",
    "    # Use on_bad_lines='skip' to handle potential parsing errors in the CSV file.\n",
    "    df = pd.read_csv('networktraffic.csv', delimiter='|', on_bad_lines='skip')\n",
    "    print(\"✅ Dataset loaded successfully.\")\n",
    "except Exception as e:\n",
    "    print(f\"❌ Error loading or parsing the CSV file: {e}\")\n",
    "    exit()"
   ]
  },
  {
   "cell_type": "code",
   "execution_count": 4,
   "id": "260de4e1",
   "metadata": {},
   "outputs": [
    {
     "name": "stdout",
     "output_type": "stream",
     "text": [
      "\n",
      "--- Step 2: Preprocessing Data and Engineering Features ---\n",
      "Dropped columns: ['ts', 'uid', 'id.orig_h', 'id.resp_h', 'detailed-label', 'local_orig', 'local_resp', 'tunnel_parents']\n",
      "Replaced '-' with NaN for missing value handling.\n",
      "Column 'service' was empty; filled with 'unknown'.\n",
      "Attempted to convert numeric columns.\n",
      "Filled missing numeric values in 'duration' with median (0.0059924999999999996).\n",
      "Filled missing numeric values in 'orig_bytes' with median (48.0).\n",
      "Filled missing numeric values in 'resp_bytes' with median (48.0).\n",
      "Final check for any remaining NaN rows completed.\n",
      "\n",
      "✅ Preprocessing complete. Shape of the final dataset: (10403, 15)\n",
      "Applied one-hot encoding to categorical features.\n",
      "Encoded target variable 'label': Benign -> 0, Malicious -> 1\n"
     ]
    },
    {
     "name": "stderr",
     "output_type": "stream",
     "text": [
      "C:\\Users\\rushi\\AppData\\Local\\Temp\\ipykernel_19912\\1664426967.py:14: FutureWarning: Downcasting behavior in `replace` is deprecated and will be removed in a future version. To retain the old behavior, explicitly call `result.infer_objects(copy=False)`. To opt-in to the future behavior, set `pd.set_option('future.no_silent_downcasting', True)`\n",
      "  df.replace('-', np.nan, inplace=True)\n",
      "C:\\Users\\rushi\\AppData\\Local\\Temp\\ipykernel_19912\\1664426967.py:27: FutureWarning: A value is trying to be set on a copy of a DataFrame or Series through chained assignment using an inplace method.\n",
      "The behavior will change in pandas 3.0. This inplace method will never work because the intermediate object on which we are setting values always behaves as a copy.\n",
      "\n",
      "For example, when doing 'df[col].method(value, inplace=True)', try using 'df.method({col: value}, inplace=True)' or df[col] = df[col].method(value) instead, to perform the operation inplace on the original object.\n",
      "\n",
      "\n",
      "  df[col].fillna('unknown', inplace=True)\n",
      "C:\\Users\\rushi\\AppData\\Local\\Temp\\ipykernel_19912\\1664426967.py:27: FutureWarning: Setting an item of incompatible dtype is deprecated and will raise an error in a future version of pandas. Value 'unknown' has dtype incompatible with float64, please explicitly cast to a compatible dtype first.\n",
      "  df[col].fillna('unknown', inplace=True)\n",
      "C:\\Users\\rushi\\AppData\\Local\\Temp\\ipykernel_19912\\1664426967.py:40: FutureWarning: A value is trying to be set on a copy of a DataFrame or Series through chained assignment using an inplace method.\n",
      "The behavior will change in pandas 3.0. This inplace method will never work because the intermediate object on which we are setting values always behaves as a copy.\n",
      "\n",
      "For example, when doing 'df[col].method(value, inplace=True)', try using 'df.method({col: value}, inplace=True)' or df[col] = df[col].method(value) instead, to perform the operation inplace on the original object.\n",
      "\n",
      "\n",
      "  df[col].fillna(median_val, inplace=True)\n",
      "C:\\Users\\rushi\\AppData\\Local\\Temp\\ipykernel_19912\\1664426967.py:40: FutureWarning: A value is trying to be set on a copy of a DataFrame or Series through chained assignment using an inplace method.\n",
      "The behavior will change in pandas 3.0. This inplace method will never work because the intermediate object on which we are setting values always behaves as a copy.\n",
      "\n",
      "For example, when doing 'df[col].method(value, inplace=True)', try using 'df.method({col: value}, inplace=True)' or df[col] = df[col].method(value) instead, to perform the operation inplace on the original object.\n",
      "\n",
      "\n",
      "  df[col].fillna(median_val, inplace=True)\n",
      "C:\\Users\\rushi\\AppData\\Local\\Temp\\ipykernel_19912\\1664426967.py:40: FutureWarning: A value is trying to be set on a copy of a DataFrame or Series through chained assignment using an inplace method.\n",
      "The behavior will change in pandas 3.0. This inplace method will never work because the intermediate object on which we are setting values always behaves as a copy.\n",
      "\n",
      "For example, when doing 'df[col].method(value, inplace=True)', try using 'df.method({col: value}, inplace=True)' or df[col] = df[col].method(value) instead, to perform the operation inplace on the original object.\n",
      "\n",
      "\n",
      "  df[col].fillna(median_val, inplace=True)\n"
     ]
    }
   ],
   "source": [
    "# --- Step 2: Data Preprocessing and Feature Engineering ---\n",
    "print(\"\\n--- Step 2: Preprocessing Data and Engineering Features ---\")\n",
    "\n",
    "# Define columns for various processing steps\n",
    "columns_to_drop = ['ts', 'uid', 'id.orig_h', 'id.resp_h', 'detailed-label', 'local_orig', 'local_resp', 'tunnel_parents']\n",
    "categorical_cols = ['proto', 'service', 'conn_state', 'history']\n",
    "numeric_cols = ['duration', 'orig_bytes', 'resp_bytes', 'missed_bytes', 'orig_pkts', 'orig_ip_bytes', 'resp_pkts', 'resp_ip_bytes']\n",
    "\n",
    "# Drop irrelevant columns\n",
    "df.drop(columns=columns_to_drop, inplace=True, errors='ignore')\n",
    "print(f\"Dropped columns: {columns_to_drop}\")\n",
    "\n",
    "# Replace placeholder '-' with actual NaN values\n",
    "df.replace('-', np.nan, inplace=True)\n",
    "print(\"Replaced '-' with NaN for missing value handling.\")\n",
    "\n",
    "# --- COMPREHENSIVE FIX: Impute ALL categorical columns ---\n",
    "for col in categorical_cols:\n",
    "    if col in df.columns and df[col].isnull().any():\n",
    "        modes = df[col].mode()\n",
    "        if not modes.empty:\n",
    "            mode_val = modes[0]\n",
    "            df[col].fillna(mode_val, inplace=True)\n",
    "            print(f\"Filled missing categorical values in '{col}' with mode ('{mode_val}').\")\n",
    "        else:\n",
    "            # This case handles columns that are entirely empty\n",
    "            df[col].fillna('unknown', inplace=True)\n",
    "            print(f\"Column '{col}' was empty; filled with 'unknown'.\")\n",
    "\n",
    "# Convert numeric columns, coercing errors to NaN\n",
    "for col in numeric_cols:\n",
    "     if col in df.columns:\n",
    "        df[col] = pd.to_numeric(df[col], errors='coerce')\n",
    "print(\"Attempted to convert numeric columns.\")\n",
    "\n",
    "# Impute missing numeric values with the column median\n",
    "for col in numeric_cols:\n",
    "    if col in df.columns and df[col].isnull().any():\n",
    "        median_val = df[col].median()\n",
    "        df[col].fillna(median_val, inplace=True)\n",
    "        print(f\"Filled missing numeric values in '{col}' with median ({median_val}).\")\n",
    "\n",
    "# A final dropna() for any other unforeseen missing values.\n",
    "df.dropna(inplace=True)\n",
    "print(\"Final check for any remaining NaN rows completed.\")\n",
    "\n",
    "# Robustness Check\n",
    "if df.empty:\n",
    "    print(\"\\n❌ CRITICAL ERROR: The DataFrame is empty after preprocessing.\")\n",
    "    exit()\n",
    "else:\n",
    "    print(f\"\\n✅ Preprocessing complete. Shape of the final dataset: {df.shape}\")\n",
    "\n",
    "# Encode categorical features using one-hot encoding\n",
    "df_encoded = pd.get_dummies(df, columns=categorical_cols, drop_first=True)\n",
    "print(\"Applied one-hot encoding to categorical features.\")\n",
    "\n",
    "# Encode the target 'label' column\n",
    "label_encoder = LabelEncoder()\n",
    "df_encoded['label'] = label_encoder.fit_transform(df_encoded['label'])\n",
    "print(\"Encoded target variable 'label': Benign -> 0, Malicious -> 1\")\n",
    "\n",
    "# Separate features (X) and target (y)\n",
    "X = df_encoded.drop('label', axis=1)\n",
    "y = df_encoded['label']\n"
   ]
  },
  {
   "cell_type": "code",
   "execution_count": 5,
   "id": "fc3e7a00",
   "metadata": {},
   "outputs": [
    {
     "name": "stdout",
     "output_type": "stream",
     "text": [
      "\n",
      "--- Step 3: Training Unsupervised Anomaly Detection Model ---\n",
      "✅ Isolation Forest model trained.\n"
     ]
    }
   ],
   "source": [
    "# --- Step 3: Unsupervised Anomaly Detection (Isolation Forest) ---\n",
    "print(\"\\n--- Step 3: Training Unsupervised Anomaly Detection Model ---\")\n",
    "iso_forest = IsolationForest(n_estimators=100, contamination=0.1, random_state=42)\n",
    "iso_forest.fit(X)\n",
    "y_pred_iso = iso_forest.predict(X)\n",
    "y_pred_iso_mapped = np.where(y_pred_iso == -1, 1, 0) # Map to 0 (Normal), 1 (Anomaly)\n",
    "print(\"✅ Isolation Forest model trained.\")"
   ]
  },
  {
   "cell_type": "code",
   "execution_count": 6,
   "id": "820cc41d",
   "metadata": {},
   "outputs": [
    {
     "name": "stdout",
     "output_type": "stream",
     "text": [
      "\n",
      "--- Step 4: Training Supervised Classification Model ---\n",
      "Split data into 70% training and 30% testing sets.\n",
      "✅ Random Forest Classifier trained.\n"
     ]
    }
   ],
   "source": [
    "# --- Step 4: Supervised Attack Classification (Random Forest) ---\n",
    "print(\"\\n--- Step 4: Training Supervised Classification Model ---\")\n",
    "X_train, X_test, y_train, y_test = train_test_split(X, y, test_size=0.3, random_state=42, stratify=y)\n",
    "print(\"Split data into 70% training and 30% testing sets.\")\n",
    "rf_classifier = RandomForestClassifier(n_estimators=100, random_state=42, n_jobs=-1)\n",
    "rf_classifier.fit(X_train, y_train)\n",
    "y_pred_rf = rf_classifier.predict(X_test)\n",
    "print(\"✅ Random Forest Classifier trained.\")"
   ]
  },
  {
   "cell_type": "code",
   "execution_count": 7,
   "id": "3df6d28a",
   "metadata": {},
   "outputs": [
    {
     "name": "stdout",
     "output_type": "stream",
     "text": [
      "\n",
      "--- Step 5: Evaluating Model Performance ---\n",
      "\n",
      "--- Isolation Forest (Unsupervised) Evaluation ---\n",
      "                               precision    recall  f1-score   support\n",
      "\n",
      "    Benign (Predicted Normal)       0.17      0.72      0.27      2181\n",
      "Malicious (Predicted Anomaly)       0.40      0.05      0.09      8222\n",
      "\n",
      "                     accuracy                           0.19     10403\n",
      "                    macro avg       0.28      0.38      0.18     10403\n",
      "                 weighted avg       0.35      0.19      0.13     10403\n",
      "\n",
      "💾 Saved Isolation Forest confusion matrix.\n",
      "\n",
      "--- Random Forest (Supervised) Evaluation ---\n",
      "              precision    recall  f1-score   support\n",
      "\n",
      "      Benign       1.00      1.00      1.00       654\n",
      "   Malicious       1.00      1.00      1.00      2467\n",
      "\n",
      "    accuracy                           1.00      3121\n",
      "   macro avg       1.00      1.00      1.00      3121\n",
      "weighted avg       1.00      1.00      1.00      3121\n",
      "\n",
      "💾 Saved Random Forest confusion matrix.\n"
     ]
    },
    {
     "data": {
      "image/png": "[encoded data removed]",
      "text/plain": [
       "<Figure size 800x600 with 2 Axes>"
      ]
     },
     "metadata": {},
     "output_type": "display_data"
    },
    {
     "data": {
      "image/png": "[encoded data removed]",
      "text/plain": [
       "<Figure size 800x600 with 2 Axes>"
      ]
     },
     "metadata": {},
     "output_type": "display_data"
    }
   ],
   "source": [
    "# --- Step 5: Model Evaluation ---\n",
    "print(\"\\n--- Step 5: Evaluating Model Performance ---\")\n",
    "\n",
    "# Evaluate Unsupervised Model\n",
    "print(\"\\n--- Isolation Forest (Unsupervised) Evaluation ---\")\n",
    "print(classification_report(y, y_pred_iso_mapped, target_names=['Benign (Predicted Normal)', 'Malicious (Predicted Anomaly)']))\n",
    "cm_iso = confusion_matrix(y, y_pred_iso_mapped)\n",
    "plt.figure(figsize=(8, 6))\n",
    "sns.heatmap(cm_iso, annot=True, fmt='d', cmap='Blues', xticklabels=['Benign', 'Malicious'], yticklabels=['Benign', 'Malicious'])\n",
    "plt.title('Isolation Forest Confusion Matrix')\n",
    "plt.xlabel('Predicted Label')\n",
    "plt.ylabel('True Label')\n",
    "plt.tight_layout()\n",
    "plt.savefig('isolation_forest_confusion_matrix.png')\n",
    "print(\"💾 Saved Isolation Forest confusion matrix.\")\n",
    "\n",
    "# Evaluate Supervised Model\n",
    "print(\"\\n--- Random Forest (Supervised) Evaluation ---\")\n",
    "print(classification_report(y_test, y_pred_rf, target_names=label_encoder.classes_))\n",
    "cm_rf = confusion_matrix(y_test, y_pred_rf)\n",
    "plt.figure(figsize=(8, 6))\n",
    "sns.heatmap(cm_rf, annot=True, fmt='d', cmap='Greens', xticklabels=label_encoder.classes_, yticklabels=label_encoder.classes_)\n",
    "plt.title('Random Forest Classifier Confusion Matrix')\n",
    "plt.xlabel('Predicted Label')\n",
    "plt.ylabel('True Label')\n",
    "plt.tight_layout()\n",
    "plt.savefig('random_forest_confusion_matrix.png')\n",
    "print(\"💾 Saved Random Forest confusion matrix.\")"
   ]
  },
  {
   "cell_type": "code",
   "execution_count": 8,
   "id": "e8b86f58",
   "metadata": {},
   "outputs": [
    {
     "name": "stdout",
     "output_type": "stream",
     "text": [
      "\n",
      "--- Step 6: Prototype Alerting System ---\n",
      "Simulating alerts for the first 5 records in the test set...\n",
      "\n",
      "========================================\n",
      "🚨 SECURITY ALERT: MALICIOUS TRAFFIC DETECTED! 🚨\n",
      "========================================\n",
      "Prediction: Malicious Activity\n",
      "Action: Isolate the affected host and investigate immediately.\n",
      "========================================\n",
      "\n",
      "\n",
      "========================================\n",
      "🚨 SECURITY ALERT: MALICIOUS TRAFFIC DETECTED! 🚨\n",
      "========================================\n",
      "Prediction: Malicious Activity\n",
      "Action: Isolate the affected host and investigate immediately.\n",
      "========================================\n",
      "\n",
      "\n",
      "========================================\n",
      "🚨 SECURITY ALERT: MALICIOUS TRAFFIC DETECTED! 🚨\n",
      "========================================\n",
      "Prediction: Malicious Activity\n",
      "Action: Isolate the affected host and investigate immediately.\n",
      "========================================\n",
      "\n",
      "\n",
      "========================================\n",
      "🚨 SECURITY ALERT: MALICIOUS TRAFFIC DETECTED! 🚨\n",
      "========================================\n",
      "Prediction: Malicious Activity\n",
      "Action: Isolate the affected host and investigate immediately.\n",
      "========================================\n",
      "\n",
      "\n",
      "========================================\n",
      "🚨 SECURITY ALERT: MALICIOUS TRAFFIC DETECTED! 🚨\n",
      "========================================\n",
      "Prediction: Malicious Activity\n",
      "Action: Isolate the affected host and investigate immediately.\n",
      "========================================\n",
      "\n"
     ]
    }
   ],
   "source": [
    "# --- Step 6: Prototype Alerting System ---\n",
    "print(\"\\n--- Step 6: Prototype Alerting System ---\")\n",
    "def generate_alert(prediction_label):\n",
    "    predicted_class_name = label_encoder.inverse_transform([prediction_label])[0]\n",
    "    if predicted_class_name == 'Malicious':\n",
    "        print(\"\\n\" + \"=\"*40)\n",
    "        print(\"🚨 SECURITY ALERT: MALICIOUS TRAFFIC DETECTED! 🚨\")\n",
    "        print(\"=\"*40)\n",
    "        print(\"Prediction: Malicious Activity\")\n",
    "        print(\"Action: Isolate the affected host and investigate immediately.\")\n",
    "        print(\"=\"*40 + \"\\n\")\n",
    "    else:\n",
    "        print(\"\\n\" + \"=\"*40)\n",
    "        print(\"✅ INFO: Traffic analyzed and classified as Benign.\")\n",
    "        print(\"=\"*40 + \"\\n\")\n",
    "\n",
    "print(\"Simulating alerts for the first 5 records in the test set...\")\n",
    "for i in range(min(5, len(X_test))):\n",
    "    sample_data = X_test.iloc[[i]]\n",
    "    sample_prediction = rf_classifier.predict(sample_data)[0]\n",
    "    generate_alert(sample_prediction)"
   ]
  }
 ],
 "metadata": {
  "kernelspec": {
   "display_name": "Python 3",
   "language": "python",
   "name": "python3"
  },
  "language_info": {
   "codemirror_mode": {
    "name": "ipython",
    "version": 3
   },
   "file_extension": ".py",
   "mimetype": "text/x-python",
   "name": "python",
   "nbconvert_exporter": "python",
   "pygments_lexer": "ipython3",
   "version": "3.12.3"
  }
 },
 "nbformat": 4,
 "nbformat_minor": 5
}
